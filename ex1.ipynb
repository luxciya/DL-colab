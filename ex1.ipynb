{
  "nbformat": 4,
  "nbformat_minor": 0,
  "metadata": {
    "colab": {
      "provenance": []
    },
    "kernelspec": {
      "name": "python3",
      "display_name": "Python 3"
    },
    "language_info": {
      "name": "python"
    }
  },
  "cells": [
    {
      "cell_type": "code",
      "execution_count": null,
      "metadata": {
        "id": "Z1vuu-GroUPd",
        "colab": {
          "base_uri": "https://localhost:8080/"
        },
        "outputId": "d52e6dbd-46c3-4afa-c7b5-aeaa7bbb8c07"
      },
      "outputs": [
        {
          "output_type": "stream",
          "name": "stdout",
          "text": [
            "Reading package lists... Done\n",
            "Building dependency tree... Done\n",
            "Reading state information... Done\n",
            "git is already the newest version (1:2.34.1-1ubuntu1.11).\n",
            "0 upgraded, 0 newly installed, 0 to remove and 49 not upgraded.\n"
          ]
        }
      ],
      "source": [
        "!apt-get install git"
      ]
    },
    {
      "cell_type": "code",
      "source": [
        "!git clone https://github.com/luxciya/DL-colab"
      ],
      "metadata": {
        "colab": {
          "base_uri": "https://localhost:8080/"
        },
        "id": "HjHGlw0E5SdY",
        "outputId": "29b473d4-7a47-4b47-caf8-4b250e3dce7e"
      },
      "execution_count": null,
      "outputs": [
        {
          "output_type": "stream",
          "name": "stdout",
          "text": [
            "Cloning into 'DL-colab'...\n",
            "warning: You appear to have cloned an empty repository.\n"
          ]
        }
      ]
    },
    {
      "cell_type": "code",
      "source": [
        "%cd DL-colab"
      ],
      "metadata": {
        "colab": {
          "base_uri": "https://localhost:8080/"
        },
        "id": "-lboHIb26WqJ",
        "outputId": "e8976686-220f-4226-ae3b-bde199aed0a1"
      },
      "execution_count": null,
      "outputs": [
        {
          "output_type": "stream",
          "name": "stdout",
          "text": [
            "/content/DL-colab\n"
          ]
        }
      ]
    },
    {
      "cell_type": "code",
      "source": [
        "import numpy as np\n",
        "from tensorflow.keras.models import Sequential\n",
        "from tensorflow.keras.layers import Dense"
      ],
      "metadata": {
        "id": "ZgjMiUe44fSU"
      },
      "execution_count": null,
      "outputs": []
    },
    {
      "cell_type": "code",
      "source": [
        "# XOR inputs and outputs\n",
        "# XOR inputs and outputs\n",
        "X = np.array([[0, 0], [0, 1], [1, 0], [1, 1]]) # Inputs - corrected the syntax here to define a 2D array\n",
        "y = np.array([0, 1, 1, 0])  # Outputs (XOR truth table)\n",
        "model = Sequential()"
      ],
      "metadata": {
        "id": "SasyA8SNoatO"
      },
      "execution_count": null,
      "outputs": []
    },
    {
      "cell_type": "code",
      "source": [
        "# Add the first hidden layer with 2 neurons and ReLU activation\n",
        "model.add(Dense(2,input_dim=2, activation='relu')) # Changed input_dim2 to input_dim=2\n",
        "\n",
        "# Add the second hidden layer with 2 neurons and ReLU activation\n",
        "model.add(Dense(2,activation='relu'))\n",
        "\n",
        "# Add the output layer with 1 neuron and sigmoid activation for binary output\n",
        "\n",
        "model. add(Dense(1,activation='sigmoid'))\n",
        "\n",
        "# Compile the model with binary crossentropy loss and Adam optimizer\n",
        "model.compile(optimizer='adam',loss='binary_crossentropy',metrics=['accuracy'])"
      ],
      "metadata": {
        "id": "7DwV5IgxsZ5a",
        "colab": {
          "base_uri": "https://localhost:8080/"
        },
        "outputId": "a71b9903-fb24-460f-b6e8-b378119cb6a1"
      },
      "execution_count": null,
      "outputs": [
        {
          "output_type": "stream",
          "name": "stderr",
          "text": [
            "/usr/local/lib/python3.10/dist-packages/keras/src/layers/core/dense.py:87: UserWarning: Do not pass an `input_shape`/`input_dim` argument to a layer. When using Sequential models, prefer using an `Input(shape)` object as the first layer in the model instead.\n",
            "  super().__init__(activity_regularizer=activity_regularizer, **kwargs)\n"
          ]
        }
      ]
    },
    {
      "cell_type": "code",
      "source": [
        "# Train the model for 500/1000 epochs\n",
        "model.fit(X,y,epochs=1000,verbose=0)\n",
        "\n",
        "# Evaluate the model accuracy\n",
        "loss, accuracy = model.evaluate(X, y, verbose=0)\n",
        "print(f'Accuracy:{accuracy * 100:.2f}%')\n",
        "\n",
        "# Make predictions on the XOR inputs\n",
        "predictions = model.predict(X) # Added missing predictions variable assignment\n",
        "\n",
        "# Print the rounded predictions (rounded to 0 or 1}\n",
        "print(\"Predicted XOR outputs:\")\n",
        "print(np.round(predictions))"
      ],
      "metadata": {
        "colab": {
          "base_uri": "https://localhost:8080/"
        },
        "id": "LU2-XCF7tdpf",
        "outputId": "8e3450e7-6aa8-4df2-a4e0-fefd76d7e88c"
      },
      "execution_count": null,
      "outputs": [
        {
          "output_type": "stream",
          "name": "stdout",
          "text": [
            "Accuracy:50.00%\n",
            "\u001b[1m1/1\u001b[0m \u001b[32m━━━━━━━━━━━━━━━━━━━━\u001b[0m\u001b[37m\u001b[0m \u001b[1m0s\u001b[0m 54ms/step\n",
            "Predicted XOR outputs:\n",
            "[[0.]\n",
            " [0.]\n",
            " [0.]\n",
            " [0.]]\n"
          ]
        }
      ]
    },
    {
      "cell_type": "code",
      "source": [],
      "metadata": {
        "id": "YenUEyaqtes1"
      },
      "execution_count": null,
      "outputs": []
    }
  ]
}